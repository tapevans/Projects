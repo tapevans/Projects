{
 "cells": [
  {
   "cell_type": "markdown",
   "metadata": {},
   "source": [
    "# Psuedo 2D (P2D) Battery Model Development\n",
    "\n",
    "This document will aid in the development of a P2D battery model by providing model framework and governing equations. In general, the model will predict the voltage response for a given user input current. Specifically, this model will be used to study the effects physical parameters have on the electrochemical impedance spectroscopy (EIS) response of a battery.\n",
    "\n",
    "The battery being modeled is a A123 18650 spiral cell that has a capacity of 1.08 Ah.\n",
    "\n",
    "Placeholder Picture\n",
    "![FailedLanding](JupyterNotebookPictures/FailedLanding.png)\n",
    "\n",
    "The model domain includes:\n",
    "- Porous graphite anode\n",
    "- Porous electrolyte separator\n",
    "- Porous LiFePO$_4$ (LFP) cathode\n",
    "\n",
    "The liquid electrolyte will consist of 1 M LiPF$_6$ in a 1:1 v/v mixture of EC and DMC.\n",
    "****************(I don't know what the elyte is yet so this is a placeholder)\n",
    "\n",
    "The simulation will assume a constant temperature of 308 K.  We will further assume that the anode, cathode, and electrolyte phases are incompressible (constant molar density).\n",
    "\n",
    "The state variables are: (Not all of these are currently implemented)\n",
    "- Li intercalation fraction $X_{\\rm Li}$ in the graphite, $X_{\\rm Li,an}$\n",
    "- Electric potential of the graphite (Currently this will be assumed 0, and the double layer voltage of the anode will be the SV)\n",
    "- Concentration of the Li+ in the electrolyte in the anode.\n",
    "- Electrolyte electric potential in the anode.\n",
    "- Concentration of the Li+ in the electrolyte in the separator.\n",
    "- Electrolyte electric potential in the separator.\n",
    "- Concentration of the Li+ in the electrolyte in the cathode.\n",
    "- Electrolyte electric potential in the cathode.\n",
    "- Li intercalation fraction $X_{\\rm Li}$ in the LFP, $X_{\\rm Li,ca}$\n",
    "- Electric potential in the LFP (Currently the double layer voltage of the cathode will be the SV)\n",
    "\n",
    "## Road Map for model development\n",
    "Placeholder Picture\n",
    "![FailedLandingWithExplosion](JupyterNotebookPictures/FailedLandingWithExplosion.png)\n",
    "\n",
    "Development of the model will proceed as follows\n",
    "- Single particle model (SPM) for anode, cathode, and seporator\n",
    "    - Conservation of charge, HW 5\n",
    "- Polarization curve using the SPM\n",
    "- Add diffusion effects\n",
    "    - Solid state\n",
    "    - Electrolyte\n",
    "- Expand to P2D\n",
    "\n",
    "## Assumptions/Simplifications\n",
    "- Area ($\\Delta x \\cdot \\Delta y$ in figure REF?) of the anode and cathode are not equal since it is a spiral cell. This model will assume they are equal\n",
    "- Liquid electrolyte is better approximated as concentrated solution theory. This model will assume dilute solution theory and that the diffusion of Li$^+$ is very fast\n",
    "- Resistance due to growth of the SEI on the electrodes is currently assumed to be zero. \n",
    "    - Later it may be added as a resistance in parallel with the double layer current or in the overpotential calculation\n",
    "- Constant temperature \n",
    "    - Not accurate for high discharge rates\n",
    "- Exchange current density (i$_\\circ$) is not calculated but is given as a user input (constant)\n",
    "- Electrode particles are modeled as smooth spheres that do not overlap with another sphere \n",
    "    - Not a very good assumption so may be changed later to include surface roughness and interference of particles\n",
    "- Assume symmetry $\\beta_a = \\beta_c$\n",
    "- Velocity of the bulk electrolyte is zero\n",
    "- Diffusion coefficient and conductivity are not a function of concentration\n",
    "    - Concentration dependance may be added later\n",
    "- No voltage gradients throughout the electrolyte\n",
    "    - May be a bad assumption, definitely will be reconsidered when model is expanded to P2D\n",
    "- Unrolled jellyroll (see figure REF?)\n",
    "    - Cartesian coordinated will be used instead of cylindrical\n",
    "\n",
    "### Sign convention of current\n",
    "Discharging of the battery is assumed to be positive current. This means that when the battery is discharging:\n",
    "- Li is removed from the anode, Li$^+$ is delivered to the electrolyte, e$^-$ is delivered to the anode\n",
    "- Li$^+$ is transported in the electolyte by diffusion and migration from anode, through  separator, into cathode\n",
    "- Li is delivered to the cathode, Li$^+$ is consumed from the electrolyte, e$^-$ is consumed from the cathode\n",
    "\n",
    "n will then be the number of positive charge transferred to the electrode which will be equal and opposite between the anode and cathode"
   ]
  },
  {
   "cell_type": "markdown",
   "metadata": {},
   "source": [
    "## (HW 5) Conservation of charge:\n",
    "\n",
    "Conservation of charge says that the total electrical charge (Q) of a system never changes:\n",
    "$$\\frac{\\partial Q}{\\partial t} = 0 = \\dot Q_{in} - \\dot Q_{out}$$\n",
    "$\\dot Q$ has units of coulombs per second which is equal to amps. Therefore\n",
    "$$ 0 = I_{in} - I_{out}$$\n",
    "\n",
    "*** Insert Pictures\n",
    "![FalconHeavy](JupyterNotebookPictures/Space-X-falcon-heavy-space-rocket-Quad-HD-wallpapers-2.jpg)\n",
    "\n",
    "![Dragon](JupyterNotebookPictures/Dragon_Carousel_0007_2.jpg)\n",
    "\n",
    "\n",
    "For the anode under discharge external current, current enters the electrode from the external circuit $I_{ext}$ and exits as ionic current $I_{io}$. Ionic current is split into double layer current $I_{dl}$ and faradaic current $I_{Far}$.\n",
    "$$ 0 = i_{ext}A_{geo,an} - i_{dl,an}A_{surf,an} - i_{Far,an}A_{surf,an} $$\n",
    "where $A_{geo,an}$ is the area of the anode current collector normal to the direction of current and $A_{surf,an}$ is the total surface area of the anode active material (Graphite surface area). $i_{Far}$ is calculated from the Butler-Volmer equation and $A_{geo,an}$, $A_{surf,an}$, and $i_{ext}$ are calculated from given information. Knowing this, $i_{dl,an}$ is \n",
    "$$ i_{dl,an} = i_{ext}A_{fac,an} - i_{Far,an} $$\n",
    "where\n",
    "$$ A_{fac,an} = \\frac{A_{geo,an}}{A_{surf,an}} $$\n",
    "\n",
    "As mentioned, $A_{fac}$ can be calculated from known parameters. \n",
    "$$ A_{surf} = N_p 4 \\pi r_p^2 $$\n",
    "$$ N_p = n_p A_{geo} $$\n",
    "$$ \\varepsilon_{AM} = \\frac{V_{AM}}{V_{tot}} = \\frac{N_p (4/3) \\pi r_p^3 }{\\Delta x \\Delta y \\Delta z} = \\frac{N_p (4/3) \\pi r_p^3 }{A_{geo} \\Delta z} $$\n",
    "$$ n_p = \\frac{N_p}{A_{geo}} = \\frac{\\varepsilon_{AM} \\Delta z 3}{4 \\pi r_p^3} $$\n",
    "$$ A_{fac} = \\frac{r_p}{3 \\varepsilon_{AM} \\Delta z} $$\n",
    "\n",
    "The double layer around the electrode particle acts as a capacitor that balances the charge. Capacitance of this layer is solved for using the capacitor equation $ C = \\frac{Q}{V} $. Solving for voltage and remembering that $Q = \\int I dt$ \n",
    "$$ \\frac{d}{dt} \\left[ V = \\frac{1}{C}Q \\right] $$\n",
    "$$ \\frac{dV}{dt} = \\frac{1}{C}\\frac{dQ}{dt}  $$\n",
    "$$ \\frac{dV}{dt} = \\frac{1}{C}I $$\n",
    "rearranging this equation\n",
    "$$ i_{dl,an} = C_{dl,an}\\frac{d\\Delta\\phi_{dl,an}}{dt} $$\n",
    "where $\\Delta \\phi_{dl,an} = \\phi_{an} - \\phi_{elyte,an}$\n",
    "\n",
    "Under the same conditions (discharging the battery) a similar set of equations can be derived for the cathode\n",
    "$$ i_{dl,ca} = i_{ext}A_{fac,ca} - i_{Far,ca} $$\n",
    "$$ i_{dl,ca} = C_{dl,ca}\\frac{d\\Delta\\phi_{dl,ca}}{dt} $$\n",
    "where $\\Delta \\phi_{dl,ca} = \\phi_{elyte,ca} - \\phi_{ca}$\n",
    "\n",
    "There is a voltage drop associated with the resistance of moving the Li$^+$ through the electrolyte and across the separator.\n",
    "$$ \\phi_{elyte,an} - i_{ext}R_{sep} = \\phi_{elyte,ca} $$\n",
    "Currently, this model will assume $R_{sep}$ = 0. Therefore\n",
    "$$ \\phi_{elyte,an} = \\phi_{elyte,ca} $$\n",
    "\n",
    "Refering back to the goal of this model, we are trying to solve for voltage for a given user input current. Initially, it is assumed that $\\phi_{an} = 0$ (Later, anode voltage will be calculated based on lithiation). With this assumption, all voltages can be solved for a given simulation time. $\\Delta \\phi_{dl,an}$ and $\\Delta \\phi_{dl,ca}$ are the only two variables that change with respect to time. The other variables can be solved for outside of the ODE solver. \n",
    "\n",
    "These conservation of charge equations are now implemented into code:"
   ]
  },
  {
   "cell_type": "code",
   "execution_count": 303,
   "metadata": {},
   "outputs": [],
   "source": [
    "# Inputs:\n",
    "\n",
    "#C_rate = 0.1 # How many charges per hour?\n",
    "\n",
    "T = 308 #K\n",
    "\n",
    "r_p_an = 4e-6 #m\n",
    "phi_an_0 = 2.4 #V\n",
    "C_dl_an = 1e4 #F/m2\n",
    "i_o_an = 4.0  #A/m2\n",
    "n_an = -1\n",
    "beta_an = 0.5\n",
    "DeltaZ_an = 30e-6  #m\n",
    "#density_graphite = 2260 #kg/m3\n",
    "#capacity_graphite = 350 #Ah/kg\n",
    "eps_graphite = .65\n",
    "dPhi_eq_an = 2.4\n",
    "\n",
    "phi_sep_0 = 2.9  #V\n",
    "\n",
    "r_p_ca = 0.3e-6 #m\n",
    "phi_ca_0 = 3.4  #V\n",
    "C_dl_ca = 2e5 #F/m2\n",
    "i_o_ca = 100 #A/m2\n",
    "n_ca = -n_an\n",
    "beta_ca = 0.5\n",
    "DeltaZ_ca = 50e-6  #m\n",
    "#density_LCO = 2292  #kg/m3\n",
    "#capacity_LCO = 175  #Ah/kg\n",
    "eps_LFP = 0.65\n",
    "dPhi_eq_ca = 3.4\n",
    "\n",
    "# How deep do we want to charge/discharge?\n",
    "#charge_frac = 0.9"
   ]
  },
  {
   "cell_type": "code",
   "execution_count": 304,
   "metadata": {},
   "outputs": [],
   "source": [
    "# Initialize Solution Vector (SV):\n",
    "phi_dl_an_0 = phi_an_0 - phi_sep_0\n",
    "phi_dl_ca_0 = phi_sep_0 - phi_ca_0 \n",
    "\n",
    "\n",
    "#capacity_anode = capacity_graphite*H_an*eps_graphite*density_graphite\n",
    "#capacity_cathode = capacity_LCO*H_ca*eps_LCO*density_LCO\n",
    "#capacity_area = min(capacity_anode,capacity_cathode)\n",
    "\n",
    "\n",
    "#t_final = charge_frac*3600./C_rate\n",
    "#i_ext = C_rate*capacity_area\n",
    "t_final = 300 #seconds\n",
    "i_ext = 1 #Amps\n",
    "\n",
    "A_fac_an = r_p_an/3/DeltaZ_an/eps_graphite\n",
    "A_fac_ca = r_p_ca/3/DeltaZ_ca/eps_LFP"
   ]
  },
  {
   "cell_type": "code",
   "execution_count": 305,
   "metadata": {},
   "outputs": [],
   "source": [
    "# Constants\n",
    "F = 96485\n",
    "R = 8.3145"
   ]
  },
  {
   "cell_type": "code",
   "execution_count": 306,
   "metadata": {},
   "outputs": [],
   "source": [
    "import numpy as np\n",
    "from math import exp\n",
    "\n",
    "def dSVdt(t,SV):\n",
    "    #print('t',t)\n",
    "    dSV_dt = np.zeros_like(SV)\n",
    "    phi_sep = 2.9  #V\n",
    "    \n",
    "    phi_an = SV[0] + phi_sep\n",
    "    eta_an = phi_an - dPhi_eq_an\n",
    "    #print('SV0',SV[0])\n",
    "    #print('eta_an',eta_an)\n",
    "    i_Far_an = i_o_an*(exp(-n_an*F*beta_an*eta_an/R/T)\n",
    "                      - exp(n_an*F*(1-beta_an)*eta_an/R/T))\n",
    "    #print('i_Far_an',i_Far_an)\n",
    "    i_dl_an = i_ext*A_fac_an - i_Far_an\n",
    "    #print('i_dl_an',i_dl_an)\n",
    "    dSV_dt[0] = i_dl_an/C_dl_an\n",
    "    \n",
    "    \n",
    "    ##eta_ca = SV[1] - dPhi_eq_ca\n",
    "    #eta_ca = SV[0] - dPhi_eq_ca\n",
    "    phi_ca = phi_sep - SV[1] \n",
    "    eta_ca = phi_ca - dPhi_eq_ca\n",
    "    #print('eta_ca',eta_ca)\n",
    "    i_Far_ca = -i_o_ca*(exp(-n_ca*F*beta_ca*eta_ca/R/T)\n",
    "                      - exp(n_ca*F*(1-beta_ca)*eta_ca/R/T))\n",
    "    #print('i_Far_ca',i_Far_ca)\n",
    "    i_dl_ca = i_ext*A_fac_ca - i_Far_ca\n",
    "    dSV_dt[1] = i_dl_ca/C_dl_ca\n",
    "    #dSV_dt[0] = i_dl_ca/C_dl_ca\n",
    "    #something\n",
    "    return dSV_dt"
   ]
  },
  {
   "cell_type": "code",
   "execution_count": 307,
   "metadata": {},
   "outputs": [],
   "source": [
    "from scipy.integrate import solve_ivp\n",
    "\n",
    "SV_0 = np.array([phi_dl_an_0, phi_dl_ca_0])\n",
    "#SV_0 = np.array([phi_dl_an_0])\n",
    "#SV_0 = np.array([phi_dl_ca_0])\n",
    "\n",
    "time_span = np.array([0,t_final])\n",
    "\n",
    "solution = solve_ivp(dSVdt,time_span,SV_0,rtol=1e-6, atol=1e-8)\n",
    "\n",
    "\n",
    "###Add code to calculate the electrode potentials"
   ]
  },
  {
   "cell_type": "code",
   "execution_count": 308,
   "metadata": {},
   "outputs": [
    {
     "data": {
      "text/plain": [
       "<matplotlib.legend.Legend at 0x2c6cf5c33a0>"
      ]
     },
     "execution_count": 308,
     "metadata": {},
     "output_type": "execute_result"
    },
    {
     "data": {
      "image/png": "[encoded data removed]",
      "text/plain": [
       "<Figure size 432x288 with 1 Axes>"
      ]
     },
     "metadata": {
      "needs_background": "light"
     },
     "output_type": "display_data"
    }
   ],
   "source": [
    "from matplotlib import pyplot as plt\n",
    "for var in solution.y:\n",
    "    plt.plot(solution.t,var)\n",
    "    \n",
    "plt.legend(['Anode double layer','Cathode double layer'])"
   ]
  },
  {
   "cell_type": "markdown",
   "metadata": {},
   "source": [
    "For now, the battery double layer potentials simply go to those values needed to sustain the current density."
   ]
  },
  {
   "cell_type": "markdown",
   "metadata": {},
   "source": [
    "## Future To-Do List\n",
    "- Add and reference figures\n",
    "- Implement more realistic electrolyte diffusion\n",
    "- Implement solid state diffusion\n",
    "- Calculate anode voltage based on concentration of lithium\n",
    "- Expand to P2D"
   ]
  },
  {
   "cell_type": "markdown",
   "metadata": {},
   "source": [
    "## List of Symbols\n"
   ]
  }
 ],
 "metadata": {
  "kernelspec": {
   "display_name": "Python 3",
   "language": "python",
   "name": "python3"
  },
  "language_info": {
   "codemirror_mode": {
    "name": "ipython",
    "version": 3
   },
   "file_extension": ".py",
   "mimetype": "text/x-python",
   "name": "python",
   "nbconvert_exporter": "python",
   "pygments_lexer": "ipython3",
   "version": "3.8.5"
  }
 },
 "nbformat": 4,
 "nbformat_minor": 4
}
